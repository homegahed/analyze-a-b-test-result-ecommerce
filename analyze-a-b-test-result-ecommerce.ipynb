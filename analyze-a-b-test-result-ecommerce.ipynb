{
 "cells": [
  {
   "cell_type": "markdown",
   "id": "cba4d714",
   "metadata": {
    "papermill": {
     "duration": 0.03136,
     "end_time": "2021-10-12T16:54:05.051397",
     "exception": false,
     "start_time": "2021-10-12T16:54:05.020037",
     "status": "completed"
    },
    "tags": []
   },
   "source": [
    "# Analyze A/B Test Results \n",
    "\n",
    "The Project is organized into the following sections: \n",
    "\n",
    "- [Introduction](#intro)\n",
    "- [Part I - Exploring & Probabilities](#probability)\n",
    "- [Part II - A/B Test](#ab_test)\n",
    "- [Part III - Regression](#regression)\n",
    "- [Final Conclusion](#finalConclusion)\n",
    "\n",
    " \n",
    "\n",
    "<a id='intro'></a>\n",
    "## Introduction\n",
    "\n",
    "A/B tests are very commonly performed by data analysts and data scientists. For this project, we will be working to understand the results of an A/B test run by an e-commerce website.  The goal is to work through this notebook to help the company understand if they should:\n",
    "- Implement the new webpage, \n",
    "- Keep the old webpage, or \n",
    "- Perhaps run the experiment longer to make their decision.\n",
    "\n",
    "\n",
    "\n",
    "\n",
    "<a id='probability'></a>\n",
    "## Part I - Exploring & Probabilities\n",
    "\n"
   ]
  },
  {
   "cell_type": "code",
   "execution_count": 1,
   "id": "7dff8c97",
   "metadata": {
    "execution": {
     "iopub.execute_input": "2021-10-12T16:54:05.128047Z",
     "iopub.status.busy": "2021-10-12T16:54:05.127389Z",
     "iopub.status.idle": "2021-10-12T16:54:05.132581Z",
     "shell.execute_reply": "2021-10-12T16:54:05.132024Z",
     "shell.execute_reply.started": "2021-10-12T16:19:57.923223Z"
    },
    "papermill": {
     "duration": 0.046061,
     "end_time": "2021-10-12T16:54:05.132775",
     "exception": false,
     "start_time": "2021-10-12T16:54:05.086714",
     "status": "completed"
    },
    "tags": []
   },
   "outputs": [],
   "source": [
    "# Import and reading libraries\n",
    "import pandas as pd\n",
    "import numpy as np\n",
    "import random\n",
    "import matplotlib.pyplot as plt\n",
    "import datetime as dt\n",
    "%matplotlib inline\n",
    "\n",
    "# Setting the seed \n",
    "random.seed(42)\n",
    "\n",
    "# Start tracking running time\n",
    "start = dt.datetime.now()"
   ]
  },
  {
   "cell_type": "markdown",
   "id": "7f4c352a",
   "metadata": {
    "papermill": {
     "duration": 0.029802,
     "end_time": "2021-10-12T16:54:05.193095",
     "exception": false,
     "start_time": "2021-10-12T16:54:05.163293",
     "status": "completed"
    },
    "tags": []
   },
   "source": [
    "### Description of dataset parameters\n",
    "\n"
   ]
  },
  {
   "cell_type": "markdown",
   "id": "15ab2fa7",
   "metadata": {
    "papermill": {
     "duration": 0.030123,
     "end_time": "2021-10-12T16:54:05.253288",
     "exception": false,
     "start_time": "2021-10-12T16:54:05.223165",
     "status": "completed"
    },
    "tags": []
   },
   "source": [
    "|Data columns|Purpose|Valid values|\n",
    "| ------------- |:-------------| -----:|\n",
    "|user_id|Unique ID|Int64 values|\n",
    "|timestamp|Time stamp when the user visited the webpage|-|\n",
    "|group|In the current A/B experiment, the users are categorized into two broad groups. <br>The `control` group users are expected to be served with `old_page`; and `treatment` group users are matched with the `new_page`. <br>However, **some inaccurate rows** are present in the initial data, such as a `control` group user is matched with a `new_page`. |`['control', 'treatment']`|\n",
    "|landing_page|It denotes whether the user visited the old or new webpage.|`['old_page', 'new_page']`|\n",
    "|converted|It denotes whether the user decided to pay for the company's product. Here, `1` means yes, the user bought the product.|`[0, 1]`|"
   ]
  },
  {
   "cell_type": "code",
   "execution_count": 2,
   "id": "e2f5befa",
   "metadata": {
    "execution": {
     "iopub.execute_input": "2021-10-12T16:54:05.317683Z",
     "iopub.status.busy": "2021-10-12T16:54:05.317094Z",
     "iopub.status.idle": "2021-10-12T16:54:05.952561Z",
     "shell.execute_reply": "2021-10-12T16:54:05.952066Z",
     "shell.execute_reply.started": "2021-10-12T16:19:57.93566Z"
    },
    "papermill": {
     "duration": 0.669417,
     "end_time": "2021-10-12T16:54:05.952704",
     "exception": false,
     "start_time": "2021-10-12T16:54:05.283287",
     "status": "completed"
    },
    "tags": []
   },
   "outputs": [],
   "source": [
    "# Reading the data file\n",
    "df = pd.read_csv('../input/analyze-ab-test-results-notebook/ab_data.csv')"
   ]
  },
  {
   "cell_type": "code",
   "execution_count": 3,
   "id": "be99c640",
   "metadata": {
    "execution": {
     "iopub.execute_input": "2021-10-12T16:54:06.022081Z",
     "iopub.status.busy": "2021-10-12T16:54:06.021409Z",
     "iopub.status.idle": "2021-10-12T16:54:06.035839Z",
     "shell.execute_reply": "2021-10-12T16:54:06.035216Z",
     "shell.execute_reply.started": "2021-10-12T16:19:58.560884Z"
    },
    "papermill": {
     "duration": 0.053035,
     "end_time": "2021-10-12T16:54:06.035988",
     "exception": false,
     "start_time": "2021-10-12T16:54:05.982953",
     "status": "completed"
    },
    "tags": []
   },
   "outputs": [
    {
     "data": {
      "text/html": [
       "<div>\n",
       "<style scoped>\n",
       "    .dataframe tbody tr th:only-of-type {\n",
       "        vertical-align: middle;\n",
       "    }\n",
       "\n",
       "    .dataframe tbody tr th {\n",
       "        vertical-align: top;\n",
       "    }\n",
       "\n",
       "    .dataframe thead th {\n",
       "        text-align: right;\n",
       "    }\n",
       "</style>\n",
       "<table border=\"1\" class=\"dataframe\">\n",
       "  <thead>\n",
       "    <tr style=\"text-align: right;\">\n",
       "      <th></th>\n",
       "      <th>user_id</th>\n",
       "      <th>timestamp</th>\n",
       "      <th>group</th>\n",
       "      <th>landing_page</th>\n",
       "      <th>converted</th>\n",
       "    </tr>\n",
       "  </thead>\n",
       "  <tbody>\n",
       "    <tr>\n",
       "      <th>0</th>\n",
       "      <td>851104</td>\n",
       "      <td>2017-01-21 22:11:48.556739</td>\n",
       "      <td>control</td>\n",
       "      <td>old_page</td>\n",
       "      <td>0</td>\n",
       "    </tr>\n",
       "    <tr>\n",
       "      <th>1</th>\n",
       "      <td>804228</td>\n",
       "      <td>2017-01-12 08:01:45.159739</td>\n",
       "      <td>control</td>\n",
       "      <td>old_page</td>\n",
       "      <td>0</td>\n",
       "    </tr>\n",
       "    <tr>\n",
       "      <th>2</th>\n",
       "      <td>661590</td>\n",
       "      <td>2017-01-11 16:55:06.154213</td>\n",
       "      <td>treatment</td>\n",
       "      <td>new_page</td>\n",
       "      <td>0</td>\n",
       "    </tr>\n",
       "    <tr>\n",
       "      <th>3</th>\n",
       "      <td>853541</td>\n",
       "      <td>2017-01-08 18:28:03.143765</td>\n",
       "      <td>treatment</td>\n",
       "      <td>new_page</td>\n",
       "      <td>0</td>\n",
       "    </tr>\n",
       "    <tr>\n",
       "      <th>4</th>\n",
       "      <td>864975</td>\n",
       "      <td>2017-01-21 01:52:26.210827</td>\n",
       "      <td>control</td>\n",
       "      <td>old_page</td>\n",
       "      <td>1</td>\n",
       "    </tr>\n",
       "  </tbody>\n",
       "</table>\n",
       "</div>"
      ],
      "text/plain": [
       "   user_id                   timestamp      group landing_page  converted\n",
       "0   851104  2017-01-21 22:11:48.556739    control     old_page          0\n",
       "1   804228  2017-01-12 08:01:45.159739    control     old_page          0\n",
       "2   661590  2017-01-11 16:55:06.154213  treatment     new_page          0\n",
       "3   853541  2017-01-08 18:28:03.143765  treatment     new_page          0\n",
       "4   864975  2017-01-21 01:52:26.210827    control     old_page          1"
      ]
     },
     "execution_count": 3,
     "metadata": {},
     "output_type": "execute_result"
    }
   ],
   "source": [
    "# Reading first few raws of the file\n",
    "df.head()"
   ]
  },
  {
   "cell_type": "code",
   "execution_count": 4,
   "id": "2bf16547",
   "metadata": {
    "execution": {
     "iopub.execute_input": "2021-10-12T16:54:06.103670Z",
     "iopub.status.busy": "2021-10-12T16:54:06.102781Z",
     "iopub.status.idle": "2021-10-12T16:54:06.107113Z",
     "shell.execute_reply": "2021-10-12T16:54:06.106497Z",
     "shell.execute_reply.started": "2021-10-12T16:19:58.586662Z"
    },
    "papermill": {
     "duration": 0.039654,
     "end_time": "2021-10-12T16:54:06.107253",
     "exception": false,
     "start_time": "2021-10-12T16:54:06.067599",
     "status": "completed"
    },
    "tags": []
   },
   "outputs": [
    {
     "data": {
      "text/plain": [
       "(294478, 5)"
      ]
     },
     "execution_count": 4,
     "metadata": {},
     "output_type": "execute_result"
    }
   ],
   "source": [
    "# identify the shape of the file (raws, columns) count\n",
    "df.shape "
   ]
  },
  {
   "cell_type": "code",
   "execution_count": 5,
   "id": "14fcf42c",
   "metadata": {
    "execution": {
     "iopub.execute_input": "2021-10-12T16:54:06.185441Z",
     "iopub.status.busy": "2021-10-12T16:54:06.184375Z",
     "iopub.status.idle": "2021-10-12T16:54:06.389487Z",
     "shell.execute_reply": "2021-10-12T16:54:06.388880Z",
     "shell.execute_reply.started": "2021-10-12T16:19:58.595574Z"
    },
    "papermill": {
     "duration": 0.247853,
     "end_time": "2021-10-12T16:54:06.389618",
     "exception": false,
     "start_time": "2021-10-12T16:54:06.141765",
     "status": "completed"
    },
    "tags": []
   },
   "outputs": [
    {
     "name": "stdout",
     "output_type": "stream",
     "text": [
      "There is a total of 290584 unique users in the dataset, out of 294478 transcations recorded\n",
      "Total users with more than one transcation is  3894\n"
     ]
    }
   ],
   "source": [
    "# number of unique users in the dataset \n",
    "print('There is a total of', df.nunique()[0], 'unique users in the dataset, out of', df.shape[0], 'transcations recorded')\n",
    "print('Total users with more than one transcation is ', (df.user_id.value_counts() > 1).sum())"
   ]
  },
  {
   "cell_type": "code",
   "execution_count": 6,
   "id": "455eff04",
   "metadata": {
    "execution": {
     "iopub.execute_input": "2021-10-12T16:54:06.457589Z",
     "iopub.status.busy": "2021-10-12T16:54:06.456612Z",
     "iopub.status.idle": "2021-10-12T16:54:06.460787Z",
     "shell.execute_reply": "2021-10-12T16:54:06.460295Z",
     "shell.execute_reply.started": "2021-10-12T16:19:58.831165Z"
    },
    "papermill": {
     "duration": 0.039998,
     "end_time": "2021-10-12T16:54:06.460923",
     "exception": false,
     "start_time": "2021-10-12T16:54:06.420925",
     "status": "completed"
    },
    "tags": []
   },
   "outputs": [
    {
     "name": "stdout",
     "output_type": "stream",
     "text": [
      "Mean conversion: 0.1197\n"
     ]
    }
   ],
   "source": [
    "# Proportion of conversion in the dataset\n",
    "print(f'Mean conversion: {df.converted.mean():.4f}')"
   ]
  },
  {
   "cell_type": "code",
   "execution_count": 7,
   "id": "93ee3a4e",
   "metadata": {
    "execution": {
     "iopub.execute_input": "2021-10-12T16:54:06.538814Z",
     "iopub.status.busy": "2021-10-12T16:54:06.538132Z",
     "iopub.status.idle": "2021-10-12T16:54:06.578912Z",
     "shell.execute_reply": "2021-10-12T16:54:06.578368Z",
     "shell.execute_reply.started": "2021-10-12T16:19:58.837986Z"
    },
    "papermill": {
     "duration": 0.079879,
     "end_time": "2021-10-12T16:54:06.579048",
     "exception": false,
     "start_time": "2021-10-12T16:54:06.499169",
     "status": "completed"
    },
    "tags": []
   },
   "outputs": [
    {
     "name": "stdout",
     "output_type": "stream",
     "text": [
      "Proportion of unique users converted: 0.1210\n"
     ]
    }
   ],
   "source": [
    "# Proportion of unique users converted \n",
    "users_converted = df.query('converted == 1').user_id.nunique() / df.user_id.nunique()\n",
    "print(f'Proportion of unique users converted: {users_converted:.4f}')"
   ]
  },
  {
   "cell_type": "code",
   "execution_count": 8,
   "id": "7e876b9d",
   "metadata": {
    "execution": {
     "iopub.execute_input": "2021-10-12T16:54:06.647567Z",
     "iopub.status.busy": "2021-10-12T16:54:06.646949Z",
     "iopub.status.idle": "2021-10-12T16:54:06.706583Z",
     "shell.execute_reply": "2021-10-12T16:54:06.707023Z",
     "shell.execute_reply.started": "2021-10-12T16:19:58.887098Z"
    },
    "papermill": {
     "duration": 0.096343,
     "end_time": "2021-10-12T16:54:06.707203",
     "exception": false,
     "start_time": "2021-10-12T16:54:06.610860",
     "status": "completed"
    },
    "tags": []
   },
   "outputs": [
    {
     "name": "stdout",
     "output_type": "stream",
     "text": [
      "Number of times when the \"group\" is treatment but \"landing_page\" is not a new_page is 1965\n",
      "Number of times when the \"group\" is control but \"landing_page\" is new_page is 1928\n"
     ]
    }
   ],
   "source": [
    "# Number of times when the \"group\" is treatment but \"landing_page\" is not a new_page.\n",
    "treatment_newpage = df.query('group == \"treatment\" & landing_page != \"new_page\"')\n",
    "print(f'Number of times when the \"group\" is treatment but \"landing_page\" is not a new_page is {treatment_newpage.shape[0]}')\n",
    "\n",
    "# Number of times when the \"group\" is control but \"landing_page\" is new_page.\n",
    "control_oldpage = df.query('group != \"treatment\" & landing_page == \"new_page\"')\n",
    "print(f'Number of times when the \"group\" is control but \"landing_page\" is new_page is {control_oldpage.shape[0]}')"
   ]
  },
  {
   "cell_type": "markdown",
   "id": "9341f3bf",
   "metadata": {
    "papermill": {
     "duration": 0.032178,
     "end_time": "2021-10-12T16:54:06.771506",
     "exception": false,
     "start_time": "2021-10-12T16:54:06.739328",
     "status": "completed"
    },
    "tags": []
   },
   "source": [
    "### Data Cleaning for mismatched data\n",
    "In a particular row, the **group** and **landing_page** columns should have either of the following acceptable values:\n",
    "\n",
    "|user_id| timestamp|group|landing_page|converted|\n",
    "|---|---|---|---|---|\n",
    "|XXXX|XXXX|`control`| `old_page`|X |\n",
    "|XXXX|XXXX|`treatment`|`new_page`|X |\n",
    "\n",
    "\n",
    "It means, the `control` group users should match with `old_page`; and `treatment` group users should matched with the `new_page`. \n",
    "\n",
    "However, for the rows where `treatment` does not match with `new_page` or `control` does not match with `old_page`, we cannot be sure if such rows truly received the new or old wepage.  \n"
   ]
  },
  {
   "cell_type": "code",
   "execution_count": 9,
   "id": "9bb9b5ed",
   "metadata": {
    "execution": {
     "iopub.execute_input": "2021-10-12T16:54:06.842795Z",
     "iopub.status.busy": "2021-10-12T16:54:06.840306Z",
     "iopub.status.idle": "2021-10-12T16:54:06.921975Z",
     "shell.execute_reply": "2021-10-12T16:54:06.921396Z",
     "shell.execute_reply.started": "2021-10-12T16:19:58.962104Z"
    },
    "papermill": {
     "duration": 0.116574,
     "end_time": "2021-10-12T16:54:06.922140",
     "exception": false,
     "start_time": "2021-10-12T16:54:06.805566",
     "status": "completed"
    },
    "tags": []
   },
   "outputs": [],
   "source": [
    "# Remove the inaccurate rows, and store the result in a new dataframe df2\n",
    "inaccurate = df.query('group == \"treatment\" & landing_page != \"new_page\" | group != \"treatment\" & landing_page == \"new_page\"')\n",
    "df2 = df.drop(inaccurate.index, axis=0)"
   ]
  },
  {
   "cell_type": "code",
   "execution_count": 10,
   "id": "386444b5",
   "metadata": {
    "execution": {
     "iopub.execute_input": "2021-10-12T16:54:06.992653Z",
     "iopub.status.busy": "2021-10-12T16:54:06.992027Z",
     "iopub.status.idle": "2021-10-12T16:54:07.047454Z",
     "shell.execute_reply": "2021-10-12T16:54:07.046961Z",
     "shell.execute_reply.started": "2021-10-12T16:19:59.051851Z"
    },
    "papermill": {
     "duration": 0.0921,
     "end_time": "2021-10-12T16:54:07.047587",
     "exception": false,
     "start_time": "2021-10-12T16:54:06.955487",
     "status": "completed"
    },
    "tags": []
   },
   "outputs": [
    {
     "data": {
      "text/plain": [
       "0"
      ]
     },
     "execution_count": 10,
     "metadata": {},
     "output_type": "execute_result"
    }
   ],
   "source": [
    "# Double Check all of the incorrect rows were removed from df2 - \n",
    "df2.query('group == \"treatment\" & landing_page != \"new_page\" | group != \"treatment\" & landing_page == \"new_page\"').shape[0]"
   ]
  },
  {
   "cell_type": "code",
   "execution_count": 11,
   "id": "321334c4",
   "metadata": {
    "execution": {
     "iopub.execute_input": "2021-10-12T16:54:07.158510Z",
     "iopub.status.busy": "2021-10-12T16:54:07.117513Z",
     "iopub.status.idle": "2021-10-12T16:54:07.165855Z",
     "shell.execute_reply": "2021-10-12T16:54:07.166258Z",
     "shell.execute_reply.started": "2021-10-12T16:19:59.115763Z"
    },
    "papermill": {
     "duration": 0.084659,
     "end_time": "2021-10-12T16:54:07.166423",
     "exception": false,
     "start_time": "2021-10-12T16:54:07.081764",
     "status": "completed"
    },
    "tags": []
   },
   "outputs": [
    {
     "data": {
      "text/plain": [
       "user_id         0\n",
       "timestamp       0\n",
       "group           0\n",
       "landing_page    0\n",
       "converted       0\n",
       "dtype: int64"
      ]
     },
     "execution_count": 11,
     "metadata": {},
     "output_type": "execute_result"
    }
   ],
   "source": [
    "# Checking for Null values\n",
    "df.isna().sum()"
   ]
  },
  {
   "cell_type": "code",
   "execution_count": 12,
   "id": "4a5a7070",
   "metadata": {
    "execution": {
     "iopub.execute_input": "2021-10-12T16:54:07.236235Z",
     "iopub.status.busy": "2021-10-12T16:54:07.235608Z",
     "iopub.status.idle": "2021-10-12T16:54:07.255240Z",
     "shell.execute_reply": "2021-10-12T16:54:07.254593Z",
     "shell.execute_reply.started": "2021-10-12T16:19:59.172807Z"
    },
    "papermill": {
     "duration": 0.056519,
     "end_time": "2021-10-12T16:54:07.255375",
     "exception": false,
     "start_time": "2021-10-12T16:54:07.198856",
     "status": "completed"
    },
    "tags": []
   },
   "outputs": [
    {
     "data": {
      "text/plain": [
       "(290584, 290585)"
      ]
     },
     "execution_count": 12,
     "metadata": {},
     "output_type": "execute_result"
    }
   ],
   "source": [
    "# How many unique user_ids are in the dataset?\n",
    "df2.user_id.nunique(), df2.shape[0]"
   ]
  },
  {
   "cell_type": "markdown",
   "id": "63e748ea",
   "metadata": {
    "papermill": {
     "duration": 0.032298,
     "end_time": "2021-10-12T16:54:07.320360",
     "exception": false,
     "start_time": "2021-10-12T16:54:07.288062",
     "status": "completed"
    },
    "tags": []
   },
   "source": [
    ">**There is one `user_id` repeated in the dataset.  What is it?**"
   ]
  },
  {
   "cell_type": "code",
   "execution_count": 13,
   "id": "a068aabe",
   "metadata": {
    "execution": {
     "iopub.execute_input": "2021-10-12T16:54:07.390200Z",
     "iopub.status.busy": "2021-10-12T16:54:07.388550Z",
     "iopub.status.idle": "2021-10-12T16:54:07.430601Z",
     "shell.execute_reply": "2021-10-12T16:54:07.429991Z",
     "shell.execute_reply.started": "2021-10-12T16:19:59.196676Z"
    },
    "papermill": {
     "duration": 0.077811,
     "end_time": "2021-10-12T16:54:07.430756",
     "exception": false,
     "start_time": "2021-10-12T16:54:07.352945",
     "status": "completed"
    },
    "tags": []
   },
   "outputs": [
    {
     "data": {
      "text/html": [
       "<div>\n",
       "<style scoped>\n",
       "    .dataframe tbody tr th:only-of-type {\n",
       "        vertical-align: middle;\n",
       "    }\n",
       "\n",
       "    .dataframe tbody tr th {\n",
       "        vertical-align: top;\n",
       "    }\n",
       "\n",
       "    .dataframe thead th {\n",
       "        text-align: right;\n",
       "    }\n",
       "</style>\n",
       "<table border=\"1\" class=\"dataframe\">\n",
       "  <thead>\n",
       "    <tr style=\"text-align: right;\">\n",
       "      <th></th>\n",
       "      <th>user_id</th>\n",
       "      <th>timestamp</th>\n",
       "      <th>group</th>\n",
       "      <th>landing_page</th>\n",
       "      <th>converted</th>\n",
       "    </tr>\n",
       "  </thead>\n",
       "  <tbody>\n",
       "    <tr>\n",
       "      <th>2893</th>\n",
       "      <td>773192</td>\n",
       "      <td>2017-01-14 02:55:59.590927</td>\n",
       "      <td>treatment</td>\n",
       "      <td>new_page</td>\n",
       "      <td>0</td>\n",
       "    </tr>\n",
       "  </tbody>\n",
       "</table>\n",
       "</div>"
      ],
      "text/plain": [
       "      user_id                   timestamp      group landing_page  converted\n",
       "2893   773192  2017-01-14 02:55:59.590927  treatment     new_page          0"
      ]
     },
     "execution_count": 13,
     "metadata": {},
     "output_type": "execute_result"
    }
   ],
   "source": [
    "# Find duplicate user_id\n",
    "df2[df2.duplicated(subset='user_id')]"
   ]
  },
  {
   "cell_type": "code",
   "execution_count": 14,
   "id": "9b1f92f9",
   "metadata": {
    "execution": {
     "iopub.execute_input": "2021-10-12T16:54:07.501501Z",
     "iopub.status.busy": "2021-10-12T16:54:07.500821Z",
     "iopub.status.idle": "2021-10-12T16:54:07.510219Z",
     "shell.execute_reply": "2021-10-12T16:54:07.509704Z",
     "shell.execute_reply.started": "2021-10-12T16:19:59.246737Z"
    },
    "papermill": {
     "duration": 0.046339,
     "end_time": "2021-10-12T16:54:07.510352",
     "exception": false,
     "start_time": "2021-10-12T16:54:07.464013",
     "status": "completed"
    },
    "tags": []
   },
   "outputs": [
    {
     "data": {
      "text/html": [
       "<div>\n",
       "<style scoped>\n",
       "    .dataframe tbody tr th:only-of-type {\n",
       "        vertical-align: middle;\n",
       "    }\n",
       "\n",
       "    .dataframe tbody tr th {\n",
       "        vertical-align: top;\n",
       "    }\n",
       "\n",
       "    .dataframe thead th {\n",
       "        text-align: right;\n",
       "    }\n",
       "</style>\n",
       "<table border=\"1\" class=\"dataframe\">\n",
       "  <thead>\n",
       "    <tr style=\"text-align: right;\">\n",
       "      <th></th>\n",
       "      <th>user_id</th>\n",
       "      <th>timestamp</th>\n",
       "      <th>group</th>\n",
       "      <th>landing_page</th>\n",
       "      <th>converted</th>\n",
       "    </tr>\n",
       "  </thead>\n",
       "  <tbody>\n",
       "    <tr>\n",
       "      <th>1899</th>\n",
       "      <td>773192</td>\n",
       "      <td>2017-01-09 05:37:58.781806</td>\n",
       "      <td>treatment</td>\n",
       "      <td>new_page</td>\n",
       "      <td>0</td>\n",
       "    </tr>\n",
       "    <tr>\n",
       "      <th>2893</th>\n",
       "      <td>773192</td>\n",
       "      <td>2017-01-14 02:55:59.590927</td>\n",
       "      <td>treatment</td>\n",
       "      <td>new_page</td>\n",
       "      <td>0</td>\n",
       "    </tr>\n",
       "  </tbody>\n",
       "</table>\n",
       "</div>"
      ],
      "text/plain": [
       "      user_id                   timestamp      group landing_page  converted\n",
       "1899   773192  2017-01-09 05:37:58.781806  treatment     new_page          0\n",
       "2893   773192  2017-01-14 02:55:59.590927  treatment     new_page          0"
      ]
     },
     "execution_count": 14,
     "metadata": {},
     "output_type": "execute_result"
    }
   ],
   "source": [
    "# Duplicated records\n",
    "df2[df2.user_id == 773192]"
   ]
  },
  {
   "cell_type": "code",
   "execution_count": 15,
   "id": "c0af6ef9",
   "metadata": {
    "execution": {
     "iopub.execute_input": "2021-10-12T16:54:07.584789Z",
     "iopub.status.busy": "2021-10-12T16:54:07.583820Z",
     "iopub.status.idle": "2021-10-12T16:54:07.654111Z",
     "shell.execute_reply": "2021-10-12T16:54:07.654504Z",
     "shell.execute_reply.started": "2021-10-12T16:19:59.259286Z"
    },
    "papermill": {
     "duration": 0.110078,
     "end_time": "2021-10-12T16:54:07.654674",
     "exception": false,
     "start_time": "2021-10-12T16:54:07.544596",
     "status": "completed"
    },
    "tags": []
   },
   "outputs": [
    {
     "data": {
      "text/plain": [
       "0"
      ]
     },
     "execution_count": 15,
     "metadata": {},
     "output_type": "execute_result"
    }
   ],
   "source": [
    "# Remove one of the rows with a duplicate user_id..\n",
    "df2.drop(2893, inplace=True)\n",
    "\n",
    "# Double check if the row with a duplicate user_id is deleted or not\n",
    "df2[df2.duplicated(subset='user_id')].shape[0]"
   ]
  },
  {
   "cell_type": "code",
   "execution_count": 16,
   "id": "f38068aa",
   "metadata": {
    "execution": {
     "iopub.execute_input": "2021-10-12T16:54:07.730208Z",
     "iopub.status.busy": "2021-10-12T16:54:07.729538Z",
     "iopub.status.idle": "2021-10-12T16:54:07.751802Z",
     "shell.execute_reply": "2021-10-12T16:54:07.752215Z",
     "shell.execute_reply.started": "2021-10-12T16:19:59.347761Z"
    },
    "papermill": {
     "duration": 0.063164,
     "end_time": "2021-10-12T16:54:07.752398",
     "exception": false,
     "start_time": "2021-10-12T16:54:07.689234",
     "status": "completed"
    },
    "tags": []
   },
   "outputs": [
    {
     "data": {
      "text/plain": [
       "0.11959708724499628"
      ]
     },
     "execution_count": 16,
     "metadata": {},
     "output_type": "execute_result"
    }
   ],
   "source": [
    "# What is the probability of an individual converting regardless of the page they receive?\n",
    "p_population = df2.query('converted == 1').user_id.nunique() / df2.user_id.nunique()\n",
    "p_population"
   ]
  },
  {
   "cell_type": "code",
   "execution_count": 17,
   "id": "389132d9",
   "metadata": {
    "execution": {
     "iopub.execute_input": "2021-10-12T16:54:07.835650Z",
     "iopub.status.busy": "2021-10-12T16:54:07.834360Z",
     "iopub.status.idle": "2021-10-12T16:54:07.876752Z",
     "shell.execute_reply": "2021-10-12T16:54:07.875972Z",
     "shell.execute_reply.started": "2021-10-12T16:19:59.37838Z"
    },
    "papermill": {
     "duration": 0.085663,
     "end_time": "2021-10-12T16:54:07.876960",
     "exception": false,
     "start_time": "2021-10-12T16:54:07.791297",
     "status": "completed"
    },
    "tags": []
   },
   "outputs": [
    {
     "data": {
      "text/plain": [
       "0.1203863045004612"
      ]
     },
     "execution_count": 17,
     "metadata": {},
     "output_type": "execute_result"
    }
   ],
   "source": [
    "# What is the probability of an individual converting given he is in the control group?\n",
    "conversion_control = df2.query('group == \"control\"').converted.mean()\n",
    "conversion_control"
   ]
  },
  {
   "cell_type": "code",
   "execution_count": 18,
   "id": "8a695203",
   "metadata": {
    "execution": {
     "iopub.execute_input": "2021-10-12T16:54:07.966184Z",
     "iopub.status.busy": "2021-10-12T16:54:07.964008Z",
     "iopub.status.idle": "2021-10-12T16:54:07.995395Z",
     "shell.execute_reply": "2021-10-12T16:54:07.995835Z",
     "shell.execute_reply.started": "2021-10-12T16:19:59.41508Z"
    },
    "papermill": {
     "duration": 0.069604,
     "end_time": "2021-10-12T16:54:07.996106",
     "exception": false,
     "start_time": "2021-10-12T16:54:07.926502",
     "status": "completed"
    },
    "tags": []
   },
   "outputs": [
    {
     "data": {
      "text/plain": [
       "0.11880806551510564"
      ]
     },
     "execution_count": 18,
     "metadata": {},
     "output_type": "execute_result"
    }
   ],
   "source": [
    "# What is the probability of an individual converting given he is in the treatment group?\n",
    "conversion_treatment = df2.query('group != \"control\"').converted.mean()\n",
    "conversion_treatment"
   ]
  },
  {
   "cell_type": "code",
   "execution_count": 19,
   "id": "693e8c4d",
   "metadata": {
    "execution": {
     "iopub.execute_input": "2021-10-12T16:54:08.068234Z",
     "iopub.status.busy": "2021-10-12T16:54:08.067598Z",
     "iopub.status.idle": "2021-10-12T16:54:08.071773Z",
     "shell.execute_reply": "2021-10-12T16:54:08.072254Z",
     "shell.execute_reply.started": "2021-10-12T16:19:59.455725Z"
    },
    "papermill": {
     "duration": 0.041488,
     "end_time": "2021-10-12T16:54:08.072412",
     "exception": false,
     "start_time": "2021-10-12T16:54:08.030924",
     "status": "completed"
    },
    "tags": []
   },
   "outputs": [
    {
     "data": {
      "text/plain": [
       "0.0015782389853555567"
      ]
     },
     "execution_count": 19,
     "metadata": {},
     "output_type": "execute_result"
    }
   ],
   "source": [
    "# What is the actual difference (obs_diff) between the conversion rates for the two groups.\n",
    "obs_diff = conversion_control - conversion_treatment\n",
    "obs_diff"
   ]
  },
  {
   "cell_type": "code",
   "execution_count": 20,
   "id": "5df008f6",
   "metadata": {
    "execution": {
     "iopub.execute_input": "2021-10-12T16:54:08.146273Z",
     "iopub.status.busy": "2021-10-12T16:54:08.145613Z",
     "iopub.status.idle": "2021-10-12T16:54:08.189443Z",
     "shell.execute_reply": "2021-10-12T16:54:08.189876Z",
     "shell.execute_reply.started": "2021-10-12T16:19:59.463163Z"
    },
    "papermill": {
     "duration": 0.082923,
     "end_time": "2021-10-12T16:54:08.190060",
     "exception": false,
     "start_time": "2021-10-12T16:54:08.107137",
     "status": "completed"
    },
    "tags": []
   },
   "outputs": [
    {
     "data": {
      "text/plain": [
       "0.5000619442226688"
      ]
     },
     "execution_count": 20,
     "metadata": {},
     "output_type": "execute_result"
    }
   ],
   "source": [
    "# What is the probability that an individual received the new page?\n",
    "df2.query('landing_page == \"new_page\"').user_id.nunique() / df2.user_id.nunique()"
   ]
  },
  {
   "cell_type": "markdown",
   "id": "5706e3ee",
   "metadata": {
    "papermill": {
     "duration": 0.034577,
     "end_time": "2021-10-12T16:54:08.259448",
     "exception": false,
     "start_time": "2021-10-12T16:54:08.224871",
     "status": "completed"
    },
    "tags": []
   },
   "source": [
    "### Observation:\n",
    "   >1. The probability of an individual received the new page or old page is almost 50%\n",
    "   >2. The conversion rate for the control group(old page) is slightly higher than the conversion rate for the treatment group\n",
    "   \n",
    "**We suspect that the new page is not leading to more conversion**\n"
   ]
  },
  {
   "cell_type": "markdown",
   "id": "a5014067",
   "metadata": {
    "papermill": {
     "duration": 0.034428,
     "end_time": "2021-10-12T16:54:08.328584",
     "exception": false,
     "start_time": "2021-10-12T16:54:08.294156",
     "status": "completed"
    },
    "tags": []
   },
   "source": [
    "<a id='ab_test'></a>\n",
    "## Part II - A/B Test\n",
    " \n",
    "\n",
    "Since just calculated that the \"converted\" probability (or rate) for the old page is *slightly* higher than that of the new page, we will assume that the old page is better unless the new page proves to be definitely better at alpha (Type I error rate): 5%\n",
    "<br><br>\n",
    "**Hypothesis Test:**\n",
    "><center>\n",
    "$H_{0}: $   $p_{old}$ > $p_{new}$ <br><br>\n",
    "$H_{1}: $   $p_{old}$ $\\leq$ $p_{new}$\n",
    "</center>"
   ]
  },
  {
   "cell_type": "code",
   "execution_count": 21,
   "id": "1742b148",
   "metadata": {
    "execution": {
     "iopub.execute_input": "2021-10-12T16:54:08.403862Z",
     "iopub.status.busy": "2021-10-12T16:54:08.403252Z",
     "iopub.status.idle": "2021-10-12T16:54:08.415772Z",
     "shell.execute_reply": "2021-10-12T16:54:08.416400Z",
     "shell.execute_reply.started": "2021-10-12T16:19:59.523561Z"
    },
    "papermill": {
     "duration": 0.053415,
     "end_time": "2021-10-12T16:54:08.416588",
     "exception": false,
     "start_time": "2021-10-12T16:54:08.363173",
     "status": "completed"
    },
    "tags": []
   },
   "outputs": [
    {
     "data": {
      "text/plain": [
       "0.12015458524901577"
      ]
     },
     "execution_count": 21,
     "metadata": {},
     "output_type": "execute_result"
    }
   ],
   "source": [
    "# simualting conversion rate on all dataset - Assuming null hypothesis p-new == p-population\n",
    "new_sample_null = np.random.choice(df2['converted'], df2.shape[0])\n",
    "new_sample_null.mean()"
   ]
  },
  {
   "cell_type": "code",
   "execution_count": 22,
   "id": "75044588",
   "metadata": {
    "execution": {
     "iopub.execute_input": "2021-10-12T16:54:08.497637Z",
     "iopub.status.busy": "2021-10-12T16:54:08.496081Z",
     "iopub.status.idle": "2021-10-12T16:54:08.509714Z",
     "shell.execute_reply": "2021-10-12T16:54:08.510239Z",
     "shell.execute_reply.started": "2021-10-12T16:19:59.544669Z"
    },
    "papermill": {
     "duration": 0.053253,
     "end_time": "2021-10-12T16:54:08.510405",
     "exception": false,
     "start_time": "2021-10-12T16:54:08.457152",
     "status": "completed"
    },
    "tags": []
   },
   "outputs": [
    {
     "data": {
      "text/plain": [
       "0.12054689865925171"
      ]
     },
     "execution_count": 22,
     "metadata": {},
     "output_type": "execute_result"
    }
   ],
   "source": [
    "# simualting conversion rate on all dataset - Assuming null hypothesis p-old == p-population\n",
    "old_sample_null = np.random.choice(df2['converted'], df2.shape[0])\n",
    "old_sample_null.mean()"
   ]
  },
  {
   "cell_type": "markdown",
   "id": "7c0fc890",
   "metadata": {
    "papermill": {
     "duration": 0.035972,
     "end_time": "2021-10-12T16:54:08.581988",
     "exception": false,
     "start_time": "2021-10-12T16:54:08.546016",
     "status": "completed"
    },
    "tags": []
   },
   "source": [
    ">Considering that the treatment group users are shown the new page, and the control group are shown the old page, **What is number of individuals in each group?**"
   ]
  },
  {
   "cell_type": "code",
   "execution_count": 23,
   "id": "8003a176",
   "metadata": {
    "execution": {
     "iopub.execute_input": "2021-10-12T16:54:08.656361Z",
     "iopub.status.busy": "2021-10-12T16:54:08.655714Z",
     "iopub.status.idle": "2021-10-12T16:54:08.716309Z",
     "shell.execute_reply": "2021-10-12T16:54:08.716770Z",
     "shell.execute_reply.started": "2021-10-12T16:19:59.561065Z"
    },
    "papermill": {
     "duration": 0.099516,
     "end_time": "2021-10-12T16:54:08.716959",
     "exception": false,
     "start_time": "2021-10-12T16:54:08.617443",
     "status": "completed"
    },
    "tags": []
   },
   "outputs": [
    {
     "name": "stdout",
     "output_type": "stream",
     "text": [
      "Number of individuals in the treatment group is 145310\n",
      "Number of individuals in the control group is 145274\n"
     ]
    }
   ],
   "source": [
    "# number of individuals per group \n",
    "individuals_group = df2.groupby('landing_page')['user_id'].nunique()\n",
    "\n",
    "# number of individuals in treatment group \n",
    "individuals_new = individuals_group[0]\n",
    "print(f'Number of individuals in the treatment group is {individuals_new}')\n",
    "\n",
    "# number of individuals in control group \n",
    "individuals_old = individuals_group[1]\n",
    "print(f'Number of individuals in the control group is {individuals_old}')"
   ]
  },
  {
   "cell_type": "code",
   "execution_count": 24,
   "id": "a618984b",
   "metadata": {
    "execution": {
     "iopub.execute_input": "2021-10-12T16:54:08.793265Z",
     "iopub.status.busy": "2021-10-12T16:54:08.792282Z",
     "iopub.status.idle": "2021-10-12T16:54:08.805066Z",
     "shell.execute_reply": "2021-10-12T16:54:08.804573Z",
     "shell.execute_reply.started": "2021-10-12T16:19:59.626003Z"
    },
    "papermill": {
     "duration": 0.051977,
     "end_time": "2021-10-12T16:54:08.805210",
     "exception": false,
     "start_time": "2021-10-12T16:54:08.753233",
     "status": "completed"
    },
    "tags": []
   },
   "outputs": [
    {
     "data": {
      "text/plain": [
       "0.11950313123666643"
      ]
     },
     "execution_count": 24,
     "metadata": {},
     "output_type": "execute_result"
    }
   ],
   "source": [
    "# Simulate a sample for the treatment Group, and calculatig conversion rate\n",
    "new_page_converted = np.random.choice(df2['converted'], individuals_new)\n",
    "new_page_converted.mean()"
   ]
  },
  {
   "cell_type": "code",
   "execution_count": 25,
   "id": "0c132c89",
   "metadata": {
    "execution": {
     "iopub.execute_input": "2021-10-12T16:54:08.885591Z",
     "iopub.status.busy": "2021-10-12T16:54:08.884669Z",
     "iopub.status.idle": "2021-10-12T16:54:08.897405Z",
     "shell.execute_reply": "2021-10-12T16:54:08.896849Z",
     "shell.execute_reply.started": "2021-10-12T16:19:59.640033Z"
    },
    "papermill": {
     "duration": 0.053864,
     "end_time": "2021-10-12T16:54:08.897546",
     "exception": false,
     "start_time": "2021-10-12T16:54:08.843682",
     "status": "completed"
    },
    "tags": []
   },
   "outputs": [
    {
     "data": {
      "text/plain": [
       "0.12015914754188636"
      ]
     },
     "execution_count": 25,
     "metadata": {},
     "output_type": "execute_result"
    }
   ],
   "source": [
    "# Simulate a sample for the control Group, and calculatig conversion rate\n",
    "old_page_converted = np.random.choice(df2['converted'], individuals_old)\n",
    "old_page_converted.mean()"
   ]
  },
  {
   "cell_type": "code",
   "execution_count": 26,
   "id": "b8f1e570",
   "metadata": {
    "execution": {
     "iopub.execute_input": "2021-10-12T16:54:08.978341Z",
     "iopub.status.busy": "2021-10-12T16:54:08.977526Z",
     "iopub.status.idle": "2021-10-12T16:54:08.982214Z",
     "shell.execute_reply": "2021-10-12T16:54:08.982670Z",
     "shell.execute_reply.started": "2021-10-12T16:19:59.655635Z"
    },
    "papermill": {
     "duration": 0.047344,
     "end_time": "2021-10-12T16:54:08.982852",
     "exception": false,
     "start_time": "2021-10-12T16:54:08.935508",
     "status": "completed"
    },
    "tags": []
   },
   "outputs": [
    {
     "data": {
      "text/plain": [
       "-0.000656016305219928"
      ]
     },
     "execution_count": 26,
     "metadata": {},
     "output_type": "execute_result"
    }
   ],
   "source": [
    "# Simualted difference in conversion rate between new page and old page\n",
    "converted_diff = new_page_converted.mean() - old_page_converted.mean()\n",
    "converted_diff"
   ]
  },
  {
   "cell_type": "markdown",
   "id": "5beb8df7",
   "metadata": {
    "papermill": {
     "duration": 0.037165,
     "end_time": "2021-10-12T16:54:09.056612",
     "exception": false,
     "start_time": "2021-10-12T16:54:09.019447",
     "status": "completed"
    },
    "tags": []
   },
   "source": [
    "#### Sampling 10,000 distributions using numpy built-in fuctions"
   ]
  },
  {
   "cell_type": "code",
   "execution_count": 27,
   "id": "91b97c6e",
   "metadata": {
    "execution": {
     "iopub.execute_input": "2021-10-12T16:54:09.133522Z",
     "iopub.status.busy": "2021-10-12T16:54:09.132876Z",
     "iopub.status.idle": "2021-10-12T16:54:09.645097Z",
     "shell.execute_reply": "2021-10-12T16:54:09.645532Z",
     "shell.execute_reply.started": "2021-10-12T16:19:59.663686Z"
    },
    "papermill": {
     "duration": 0.551835,
     "end_time": "2021-10-12T16:54:09.645706",
     "exception": false,
     "start_time": "2021-10-12T16:54:09.093871",
     "status": "completed"
    },
    "tags": []
   },
   "outputs": [
    {
     "name": "stdout",
     "output_type": "stream",
     "text": [
      "CPU times: user 75.9 ms, sys: 9.16 ms, total: 85.1 ms\n",
      "Wall time: 80 ms\n"
     ]
    },
    {
     "data": {
      "text/plain": [
       "<matplotlib.legend.Legend at 0x7f90439c8490>"
      ]
     },
     "execution_count": 27,
     "metadata": {},
     "output_type": "execute_result"
    },
    {
     "data": {
      "image/png": "[encoded data removed]",
      "text/plain": [
       "<Figure size 1080x360 with 2 Axes>"
      ]
     },
     "metadata": {
      "needs_background": "light"
     },
     "output_type": "display_data"
    }
   ],
   "source": [
    "%%time\n",
    "\n",
    "#Sampling distribution using numpy built-in fuctions\n",
    "\n",
    "p_new = np.random.binomial(individuals_new, p=conversion_treatment, size=10000) / individuals_new\n",
    "p_old = np.random.binomial(individuals_old, p=conversion_control, size=10000) / individuals_old\n",
    "p_diffs = p_old - p_new \n",
    "\n",
    "# Visualizing the sampling distributions\n",
    "fig, (ax1, ax2) = plt.subplots(1, 2, figsize=[15, 5]);\n",
    "ax1.hist(p_new, alpha =0.5);\n",
    "ax1.hist(p_old, alpha =0.5);\n",
    "\n",
    "ax1.title.set_text('Simulating matching between p_new and p_old');\n",
    "ax1.set_xlabel('Distribution');\n",
    "ax1.set_ylabel('Counts');\n",
    "\n",
    "ax2.hist(p_diffs);\n",
    "ax2.axvline(obs_diff, color='g', label='obs_diff', ls='--');\n",
    "ax2.axvline(np.percentile(p_diffs, 2.5), label='Lower limit', c='yellow', ls='--');\n",
    "ax2.axvline(np.percentile(p_diffs, 97.5), label='Upper limit', c='red', ls='--');\n",
    "ax2.title.set_text('Simulating p_diffs');\n",
    "ax2.set_xlabel('p_diffs');\n",
    "ax2.set_ylabel('Counts');\n",
    "\n",
    "plt.legend();"
   ]
  },
  {
   "cell_type": "code",
   "execution_count": 28,
   "id": "a52a9ef8",
   "metadata": {
    "execution": {
     "iopub.execute_input": "2021-10-12T16:54:09.731103Z",
     "iopub.status.busy": "2021-10-12T16:54:09.730478Z",
     "iopub.status.idle": "2021-10-12T16:54:09.732742Z",
     "shell.execute_reply": "2021-10-12T16:54:09.733210Z",
     "shell.execute_reply.started": "2021-10-12T16:20:00.223538Z"
    },
    "papermill": {
     "duration": 0.047565,
     "end_time": "2021-10-12T16:54:09.733365",
     "exception": false,
     "start_time": "2021-10-12T16:54:09.685800",
     "status": "completed"
    },
    "tags": []
   },
   "outputs": [
    {
     "data": {
      "text/plain": [
       "0.4994"
      ]
     },
     "execution_count": 28,
     "metadata": {},
     "output_type": "execute_result"
    }
   ],
   "source": [
    "#proportion of the p_diffs are greater than the actual difference observed in the df2\n",
    "probability_diffs = (p_diffs > obs_diff).sum() / 10000\n",
    "probability_diffs"
   ]
  },
  {
   "cell_type": "markdown",
   "id": "2884689b",
   "metadata": {
    "papermill": {
     "duration": 0.038249,
     "end_time": "2021-10-12T16:54:09.810802",
     "exception": false,
     "start_time": "2021-10-12T16:54:09.772553",
     "status": "completed"
    },
    "tags": []
   },
   "source": [
    "#### Sampling 10,000 distributions using for loops"
   ]
  },
  {
   "cell_type": "code",
   "execution_count": 29,
   "id": "b528f05e",
   "metadata": {
    "execution": {
     "iopub.execute_input": "2021-10-12T16:54:09.894585Z",
     "iopub.status.busy": "2021-10-12T16:54:09.893911Z",
     "iopub.status.idle": "2021-10-12T16:55:33.009712Z",
     "shell.execute_reply": "2021-10-12T16:55:33.010524Z",
     "shell.execute_reply.started": "2021-10-12T16:20:00.233521Z"
    },
    "papermill": {
     "duration": 83.161063,
     "end_time": "2021-10-12T16:55:33.010806",
     "exception": false,
     "start_time": "2021-10-12T16:54:09.849743",
     "status": "completed"
    },
    "tags": []
   },
   "outputs": [
    {
     "name": "stdout",
     "output_type": "stream",
     "text": [
      "CPU times: user 1min 23s, sys: 19.1 ms, total: 1min 23s\n",
      "Wall time: 1min 23s\n"
     ]
    }
   ],
   "source": [
    "%%time\n",
    "\n",
    "#Sampling distribution using for loops\n",
    "p_diffs = []\n",
    "p_news = []\n",
    "p_olds = []\n",
    "\n",
    "for i in range(10000):\n",
    "    p_new = np.random.choice(df2['converted'], individuals_new)\n",
    "    p_news.append(p_new.mean())\n",
    "    p_old = np.random.choice(df2['converted'], individuals_old)\n",
    "    p_olds.append(p_old.mean())\n",
    "    p_diff = p_new.mean() - p_old.mean()\n",
    "    p_diffs.append(p_diff)"
   ]
  },
  {
   "cell_type": "code",
   "execution_count": 30,
   "id": "39e1ad9e",
   "metadata": {
    "execution": {
     "iopub.execute_input": "2021-10-12T16:55:33.110988Z",
     "iopub.status.busy": "2021-10-12T16:55:33.110320Z",
     "iopub.status.idle": "2021-10-12T16:55:33.672367Z",
     "shell.execute_reply": "2021-10-12T16:55:33.671453Z",
     "shell.execute_reply.started": "2021-10-12T16:21:28.803364Z"
    },
    "papermill": {
     "duration": 0.620754,
     "end_time": "2021-10-12T16:55:33.672514",
     "exception": false,
     "start_time": "2021-10-12T16:55:33.051760",
     "status": "completed"
    },
    "tags": []
   },
   "outputs": [
    {
     "data": {
      "image/png": "[encoded data removed]",
      "text/plain": [
       "<Figure size 1080x360 with 2 Axes>"
      ]
     },
     "metadata": {
      "needs_background": "light"
     },
     "output_type": "display_data"
    }
   ],
   "source": [
    "# Visualizing the sampling distributions\n",
    "fig, (ax1, ax2) = plt.subplots(1, 2, figsize=[15, 5])\n",
    "ax1.hist(p_news, alpha =0.5);\n",
    "ax1.hist(p_olds, alpha =0.5);\n",
    "\n",
    "ax1.title.set_text('Simulating matching between p_new and p_old');\n",
    "ax1.set_xlabel('Distribution');\n",
    "ax1.set_ylabel('Counts');\n",
    "\n",
    "\n",
    "ax2.hist(p_diffs);\n",
    "ax2.axvline(obs_diff, color='g', label='obs_diff', ls='--');\n",
    "ax2.axvline(np.percentile(p_diffs, 2.5), label='Lower limit', c='yellow', ls='--');\n",
    "ax2.axvline(np.percentile(p_diffs, 97.5), label='Upper limit', c='red', ls='--');\n",
    "\n",
    "ax2.title.set_text('Simulating p_diffs');\n",
    "ax2.set_xlabel('p_diffs');\n",
    "ax2.set_ylabel('Counts');\n",
    "\n",
    "plt.legend();"
   ]
  },
  {
   "cell_type": "code",
   "execution_count": 31,
   "id": "263441e8",
   "metadata": {
    "execution": {
     "iopub.execute_input": "2021-10-12T16:55:33.758247Z",
     "iopub.status.busy": "2021-10-12T16:55:33.754409Z",
     "iopub.status.idle": "2021-10-12T16:55:33.761782Z",
     "shell.execute_reply": "2021-10-12T16:55:33.762234Z",
     "shell.execute_reply.started": "2021-10-12T16:21:29.410411Z"
    },
    "papermill": {
     "duration": 0.050245,
     "end_time": "2021-10-12T16:55:33.762393",
     "exception": false,
     "start_time": "2021-10-12T16:55:33.712148",
     "status": "completed"
    },
    "tags": []
   },
   "outputs": [
    {
     "data": {
      "text/plain": [
       "0.0966"
      ]
     },
     "execution_count": 31,
     "metadata": {},
     "output_type": "execute_result"
    }
   ],
   "source": [
    "#proportion of the p_diffs are greater than the actual difference observed in the df2\n",
    "probability_diffs = (np.array(p_diffs) > obs_diff).sum() / 10000\n",
    "probability_diffs"
   ]
  },
  {
   "cell_type": "markdown",
   "id": "8168b4e7",
   "metadata": {
    "papermill": {
     "duration": 0.03885,
     "end_time": "2021-10-12T16:55:33.840531",
     "exception": false,
     "start_time": "2021-10-12T16:55:33.801681",
     "status": "completed"
    },
    "tags": []
   },
   "source": [
    "**Hypothesis test result** <br>\n",
    ">1. The P-value of for difference in mean between old and new page using Numpy built-in functions is greater than the Alpha value\n",
    ">2. The P-value of for difference in mean between old and new page using for loops is also greater than the Alpha value\n",
    "\n",
    "Since the P-value in both cases is greater than the alpha of 0.05, **we can reject the null hypothesis**"
   ]
  },
  {
   "cell_type": "markdown",
   "id": "da26fcf6",
   "metadata": {
    "papermill": {
     "duration": 0.038996,
     "end_time": "2021-10-12T16:55:33.919003",
     "exception": false,
     "start_time": "2021-10-12T16:55:33.880007",
     "status": "completed"
    },
    "tags": []
   },
   "source": [
    "#### Using Stats model - Ztest for Hypothesis Testing"
   ]
  },
  {
   "cell_type": "code",
   "execution_count": 32,
   "id": "cd58a6f7",
   "metadata": {
    "execution": {
     "iopub.execute_input": "2021-10-12T16:55:34.004977Z",
     "iopub.status.busy": "2021-10-12T16:55:34.001485Z",
     "iopub.status.idle": "2021-10-12T16:55:35.760843Z",
     "shell.execute_reply": "2021-10-12T16:55:35.761308Z",
     "shell.execute_reply.started": "2021-10-12T16:21:29.419876Z"
    },
    "papermill": {
     "duration": 1.803025,
     "end_time": "2021-10-12T16:55:35.761472",
     "exception": false,
     "start_time": "2021-10-12T16:55:33.958447",
     "status": "completed"
    },
    "tags": []
   },
   "outputs": [
    {
     "data": {
      "text/plain": [
       "(17489, 17264, 145274, 145310)"
      ]
     },
     "execution_count": 32,
     "metadata": {},
     "output_type": "execute_result"
    }
   ],
   "source": [
    "import statsmodels.api as sm\n",
    "\n",
    "# number of conversions with the old_page\n",
    "convert_old = df2.query('landing_page == \"old_page\"')['converted'].sum()\n",
    "\n",
    "# number of conversions with the new_page\n",
    "convert_new =df2.query('landing_page != \"old_page\"')['converted'].sum()\n",
    "\n",
    "# number of individuals who were shown the old_page\n",
    "n_old = df2.query('landing_page == \"old_page\"')['user_id'].nunique()\n",
    "\n",
    "# number of individuals who received new_page\n",
    "n_new = df2.query('landing_page != \"old_page\"')['user_id'].nunique()\n",
    "\n",
    "convert_old, convert_new, n_old, n_new"
   ]
  },
  {
   "cell_type": "code",
   "execution_count": 33,
   "id": "1bc2c7c5",
   "metadata": {
    "execution": {
     "iopub.execute_input": "2021-10-12T16:55:35.881280Z",
     "iopub.status.busy": "2021-10-12T16:55:35.877282Z",
     "iopub.status.idle": "2021-10-12T16:55:35.886554Z",
     "shell.execute_reply": "2021-10-12T16:55:35.885700Z",
     "shell.execute_reply.started": "2021-10-12T16:21:31.149494Z"
    },
    "papermill": {
     "duration": 0.069763,
     "end_time": "2021-10-12T16:55:35.886705",
     "exception": false,
     "start_time": "2021-10-12T16:55:35.816942",
     "status": "completed"
    },
    "tags": []
   },
   "outputs": [
    {
     "name": "stdout",
     "output_type": "stream",
     "text": [
      "1.3109241984234394 0.09494168724097551\n"
     ]
    }
   ],
   "source": [
    "# applying sm.stats.proportions_ztest() method \n",
    "z_score, p_value = sm.stats.proportions_ztest([convert_old, convert_new], [n_old, n_new], alternative = 'larger')\n",
    "print(z_score, p_value)"
   ]
  },
  {
   "cell_type": "markdown",
   "id": "871d68c0",
   "metadata": {
    "papermill": {
     "duration": 0.039957,
     "end_time": "2021-10-12T16:55:35.970264",
     "exception": false,
     "start_time": "2021-10-12T16:55:35.930307",
     "status": "completed"
    },
    "tags": []
   },
   "source": [
    "**Hypothesis test result - Z-test** <br> \n",
    "\n",
    ">As the observed p value from the z test is higher than the test alpha value of 0.05, we reject the null hypothesis"
   ]
  },
  {
   "cell_type": "markdown",
   "id": "fe76893b",
   "metadata": {
    "papermill": {
     "duration": 0.040149,
     "end_time": "2021-10-12T16:55:36.051449",
     "exception": false,
     "start_time": "2021-10-12T16:55:36.011300",
     "status": "completed"
    },
    "tags": []
   },
   "source": [
    "<a id='regression'></a>\n",
    "### Part III - A regression approach\n",
    "\n",
    "\n",
    "We can use **statsmodels** library to fit the regression model to see if there is a significant difference in conversion based on the page-type a customer receives"
   ]
  },
  {
   "cell_type": "code",
   "execution_count": 34,
   "id": "ed291a43",
   "metadata": {
    "execution": {
     "iopub.execute_input": "2021-10-12T16:55:36.139058Z",
     "iopub.status.busy": "2021-10-12T16:55:36.138121Z",
     "iopub.status.idle": "2021-10-12T16:55:36.170554Z",
     "shell.execute_reply": "2021-10-12T16:55:36.170085Z",
     "shell.execute_reply.started": "2021-10-12T16:21:31.15754Z"
    },
    "papermill": {
     "duration": 0.079022,
     "end_time": "2021-10-12T16:55:36.170694",
     "exception": false,
     "start_time": "2021-10-12T16:55:36.091672",
     "status": "completed"
    },
    "tags": []
   },
   "outputs": [],
   "source": [
    "# Adding an intercept\n",
    "df2['intercept'] = 1\n",
    "\n",
    "# Transform group column to using get_dummies and drop control column\n",
    "df2['ab_page'] = pd.get_dummies(df2['group'])['treatment']"
   ]
  },
  {
   "cell_type": "code",
   "execution_count": 35,
   "id": "2a88c6d1",
   "metadata": {
    "execution": {
     "iopub.execute_input": "2021-10-12T16:55:36.257110Z",
     "iopub.status.busy": "2021-10-12T16:55:36.255897Z",
     "iopub.status.idle": "2021-10-12T16:55:38.802921Z",
     "shell.execute_reply": "2021-10-12T16:55:38.803751Z",
     "shell.execute_reply.started": "2021-10-12T16:21:31.202048Z"
    },
    "papermill": {
     "duration": 2.593255,
     "end_time": "2021-10-12T16:55:38.804019",
     "exception": false,
     "start_time": "2021-10-12T16:55:36.210764",
     "status": "completed"
    },
    "tags": []
   },
   "outputs": [
    {
     "name": "stdout",
     "output_type": "stream",
     "text": [
      "Optimization terminated successfully.\n",
      "         Current function value: 0.366118\n",
      "         Iterations 6\n"
     ]
    },
    {
     "data": {
      "text/html": [
       "<table class=\"simpletable\">\n",
       "<tr>\n",
       "        <td>Model:</td>              <td>Logit</td>      <td>Pseudo R-squared:</td>    <td>0.000</td>   \n",
       "</tr>\n",
       "<tr>\n",
       "  <td>Dependent Variable:</td>     <td>converted</td>          <td>AIC:</td>        <td>212780.3502</td>\n",
       "</tr>\n",
       "<tr>\n",
       "         <td>Date:</td>        <td>2021-10-12 16:55</td>       <td>BIC:</td>        <td>212801.5095</td>\n",
       "</tr>\n",
       "<tr>\n",
       "   <td>No. Observations:</td>       <td>290584</td>       <td>Log-Likelihood:</td>  <td>-1.0639e+05</td>\n",
       "</tr>\n",
       "<tr>\n",
       "       <td>Df Model:</td>              <td>1</td>            <td>LL-Null:</td>      <td>-1.0639e+05</td>\n",
       "</tr>\n",
       "<tr>\n",
       "     <td>Df Residuals:</td>         <td>290582</td>        <td>LLR p-value:</td>      <td>0.18988</td>  \n",
       "</tr>\n",
       "<tr>\n",
       "      <td>Converged:</td>           <td>1.0000</td>           <td>Scale:</td>         <td>1.0000</td>   \n",
       "</tr>\n",
       "<tr>\n",
       "    <td>No. Iterations:</td>        <td>6.0000</td>              <td></td>               <td></td>      \n",
       "</tr>\n",
       "</table>\n",
       "<table class=\"simpletable\">\n",
       "<tr>\n",
       "      <td></td>       <th>Coef.</th>  <th>Std.Err.</th>     <th>z</th>      <th>P>|z|</th> <th>[0.025</th>  <th>0.975]</th> \n",
       "</tr>\n",
       "<tr>\n",
       "  <th>intercept</th> <td>-1.9888</td>  <td>0.0081</td>  <td>-246.6690</td> <td>0.0000</td> <td>-2.0046</td> <td>-1.9730</td>\n",
       "</tr>\n",
       "<tr>\n",
       "  <th>ab_page</th>   <td>-0.0150</td>  <td>0.0114</td>   <td>-1.3109</td>  <td>0.1899</td> <td>-0.0374</td> <td>0.0074</td> \n",
       "</tr>\n",
       "</table>"
      ],
      "text/plain": [
       "<class 'statsmodels.iolib.summary2.Summary'>\n",
       "\"\"\"\n",
       "                          Results: Logit\n",
       "==================================================================\n",
       "Model:              Logit            Pseudo R-squared: 0.000      \n",
       "Dependent Variable: converted        AIC:              212780.3502\n",
       "Date:               2021-10-12 16:55 BIC:              212801.5095\n",
       "No. Observations:   290584           Log-Likelihood:   -1.0639e+05\n",
       "Df Model:           1                LL-Null:          -1.0639e+05\n",
       "Df Residuals:       290582           LLR p-value:      0.18988    \n",
       "Converged:          1.0000           Scale:            1.0000     \n",
       "No. Iterations:     6.0000                                        \n",
       "-------------------------------------------------------------------\n",
       "              Coef.   Std.Err.      z      P>|z|    [0.025   0.975]\n",
       "-------------------------------------------------------------------\n",
       "intercept    -1.9888    0.0081  -246.6690  0.0000  -2.0046  -1.9730\n",
       "ab_page      -0.0150    0.0114    -1.3109  0.1899  -0.0374   0.0074\n",
       "==================================================================\n",
       "\n",
       "\"\"\""
      ]
     },
     "execution_count": 35,
     "metadata": {},
     "output_type": "execute_result"
    }
   ],
   "source": [
    "# Instantiate and fitting the regression model (statsmodels) on the two columns\n",
    "log = sm.Logit(df2['converted'], df2[['intercept', 'ab_page']])\n",
    "result = log.fit()\n",
    "\n",
    "# Summary statistics of model\n",
    "result.summary2()"
   ]
  },
  {
   "cell_type": "markdown",
   "id": "2e0ac92f",
   "metadata": {
    "papermill": {
     "duration": 0.040168,
     "end_time": "2021-10-12T16:55:38.911920",
     "exception": false,
     "start_time": "2021-10-12T16:55:38.871752",
     "status": "completed"
    },
    "tags": []
   },
   "source": [
    "**Hypothesis test result - Regression** <br> \n",
    "\n",
    ">The p-value of ab_page is 0.1899 which indicates that the variable is not significant in predicating conversion at an alpha rate of 0.05, so we reject the null hypothesis"
   ]
  },
  {
   "cell_type": "markdown",
   "id": "9d22e444",
   "metadata": {
    "papermill": {
     "duration": 0.040576,
     "end_time": "2021-10-12T16:55:38.994190",
     "exception": false,
     "start_time": "2021-10-12T16:55:38.953614",
     "status": "completed"
    },
    "tags": []
   },
   "source": [
    "### Adding countries\n",
    "In an effort to refine the model performance and trying to get a better assesment to our statistical test, we will add more factors to the regression model to making a better predeication as we are increasing the training data by merging the countries file and adding the effect based on which country a user lives in\n",
    "\n"
   ]
  },
  {
   "cell_type": "code",
   "execution_count": 36,
   "id": "744cfbff",
   "metadata": {
    "execution": {
     "iopub.execute_input": "2021-10-12T16:55:39.081063Z",
     "iopub.status.busy": "2021-10-12T16:55:39.080192Z",
     "iopub.status.idle": "2021-10-12T16:55:39.215683Z",
     "shell.execute_reply": "2021-10-12T16:55:39.215191Z",
     "shell.execute_reply.started": "2021-10-12T16:21:34.037646Z"
    },
    "papermill": {
     "duration": 0.180181,
     "end_time": "2021-10-12T16:55:39.215836",
     "exception": false,
     "start_time": "2021-10-12T16:55:39.035655",
     "status": "completed"
    },
    "tags": []
   },
   "outputs": [
    {
     "data": {
      "text/html": [
       "<div>\n",
       "<style scoped>\n",
       "    .dataframe tbody tr th:only-of-type {\n",
       "        vertical-align: middle;\n",
       "    }\n",
       "\n",
       "    .dataframe tbody tr th {\n",
       "        vertical-align: top;\n",
       "    }\n",
       "\n",
       "    .dataframe thead th {\n",
       "        text-align: right;\n",
       "    }\n",
       "</style>\n",
       "<table border=\"1\" class=\"dataframe\">\n",
       "  <thead>\n",
       "    <tr style=\"text-align: right;\">\n",
       "      <th></th>\n",
       "      <th>user_id</th>\n",
       "      <th>country</th>\n",
       "    </tr>\n",
       "  </thead>\n",
       "  <tbody>\n",
       "    <tr>\n",
       "      <th>0</th>\n",
       "      <td>834778</td>\n",
       "      <td>UK</td>\n",
       "    </tr>\n",
       "    <tr>\n",
       "      <th>1</th>\n",
       "      <td>928468</td>\n",
       "      <td>US</td>\n",
       "    </tr>\n",
       "    <tr>\n",
       "      <th>2</th>\n",
       "      <td>822059</td>\n",
       "      <td>UK</td>\n",
       "    </tr>\n",
       "    <tr>\n",
       "      <th>3</th>\n",
       "      <td>711597</td>\n",
       "      <td>UK</td>\n",
       "    </tr>\n",
       "    <tr>\n",
       "      <th>4</th>\n",
       "      <td>710616</td>\n",
       "      <td>UK</td>\n",
       "    </tr>\n",
       "  </tbody>\n",
       "</table>\n",
       "</div>"
      ],
      "text/plain": [
       "   user_id country\n",
       "0   834778      UK\n",
       "1   928468      US\n",
       "2   822059      UK\n",
       "3   711597      UK\n",
       "4   710616      UK"
      ]
     },
     "execution_count": 36,
     "metadata": {},
     "output_type": "execute_result"
    }
   ],
   "source": [
    "# Read the countries file\n",
    "countries = pd.read_csv('../input/countries/countries.csv')\n",
    "countries.head()"
   ]
  },
  {
   "cell_type": "code",
   "execution_count": 37,
   "id": "0b1773ed",
   "metadata": {
    "execution": {
     "iopub.execute_input": "2021-10-12T16:55:39.304109Z",
     "iopub.status.busy": "2021-10-12T16:55:39.303102Z",
     "iopub.status.idle": "2021-10-12T16:55:39.421105Z",
     "shell.execute_reply": "2021-10-12T16:55:39.420568Z",
     "shell.execute_reply.started": "2021-10-12T16:21:34.176602Z"
    },
    "papermill": {
     "duration": 0.164179,
     "end_time": "2021-10-12T16:55:39.421243",
     "exception": false,
     "start_time": "2021-10-12T16:55:39.257064",
     "status": "completed"
    },
    "tags": []
   },
   "outputs": [
    {
     "data": {
      "text/html": [
       "<div>\n",
       "<style scoped>\n",
       "    .dataframe tbody tr th:only-of-type {\n",
       "        vertical-align: middle;\n",
       "    }\n",
       "\n",
       "    .dataframe tbody tr th {\n",
       "        vertical-align: top;\n",
       "    }\n",
       "\n",
       "    .dataframe thead th {\n",
       "        text-align: right;\n",
       "    }\n",
       "</style>\n",
       "<table border=\"1\" class=\"dataframe\">\n",
       "  <thead>\n",
       "    <tr style=\"text-align: right;\">\n",
       "      <th></th>\n",
       "      <th>user_id</th>\n",
       "      <th>timestamp</th>\n",
       "      <th>group</th>\n",
       "      <th>landing_page</th>\n",
       "      <th>converted</th>\n",
       "      <th>intercept</th>\n",
       "      <th>ab_page</th>\n",
       "      <th>country</th>\n",
       "    </tr>\n",
       "  </thead>\n",
       "  <tbody>\n",
       "    <tr>\n",
       "      <th>0</th>\n",
       "      <td>851104</td>\n",
       "      <td>2017-01-21 22:11:48.556739</td>\n",
       "      <td>control</td>\n",
       "      <td>old_page</td>\n",
       "      <td>0</td>\n",
       "      <td>1</td>\n",
       "      <td>0</td>\n",
       "      <td>US</td>\n",
       "    </tr>\n",
       "    <tr>\n",
       "      <th>1</th>\n",
       "      <td>804228</td>\n",
       "      <td>2017-01-12 08:01:45.159739</td>\n",
       "      <td>control</td>\n",
       "      <td>old_page</td>\n",
       "      <td>0</td>\n",
       "      <td>1</td>\n",
       "      <td>0</td>\n",
       "      <td>US</td>\n",
       "    </tr>\n",
       "    <tr>\n",
       "      <th>2</th>\n",
       "      <td>661590</td>\n",
       "      <td>2017-01-11 16:55:06.154213</td>\n",
       "      <td>treatment</td>\n",
       "      <td>new_page</td>\n",
       "      <td>0</td>\n",
       "      <td>1</td>\n",
       "      <td>1</td>\n",
       "      <td>US</td>\n",
       "    </tr>\n",
       "    <tr>\n",
       "      <th>3</th>\n",
       "      <td>853541</td>\n",
       "      <td>2017-01-08 18:28:03.143765</td>\n",
       "      <td>treatment</td>\n",
       "      <td>new_page</td>\n",
       "      <td>0</td>\n",
       "      <td>1</td>\n",
       "      <td>1</td>\n",
       "      <td>US</td>\n",
       "    </tr>\n",
       "    <tr>\n",
       "      <th>4</th>\n",
       "      <td>864975</td>\n",
       "      <td>2017-01-21 01:52:26.210827</td>\n",
       "      <td>control</td>\n",
       "      <td>old_page</td>\n",
       "      <td>1</td>\n",
       "      <td>1</td>\n",
       "      <td>0</td>\n",
       "      <td>US</td>\n",
       "    </tr>\n",
       "  </tbody>\n",
       "</table>\n",
       "</div>"
      ],
      "text/plain": [
       "   user_id                   timestamp      group landing_page  converted  \\\n",
       "0   851104  2017-01-21 22:11:48.556739    control     old_page          0   \n",
       "1   804228  2017-01-12 08:01:45.159739    control     old_page          0   \n",
       "2   661590  2017-01-11 16:55:06.154213  treatment     new_page          0   \n",
       "3   853541  2017-01-08 18:28:03.143765  treatment     new_page          0   \n",
       "4   864975  2017-01-21 01:52:26.210827    control     old_page          1   \n",
       "\n",
       "   intercept  ab_page country  \n",
       "0          1        0      US  \n",
       "1          1        0      US  \n",
       "2          1        1      US  \n",
       "3          1        1      US  \n",
       "4          1        0      US  "
      ]
     },
     "execution_count": 37,
     "metadata": {},
     "output_type": "execute_result"
    }
   ],
   "source": [
    "# Join with the df2 dataframe\n",
    "df_merged = df2.merge(countries, on='user_id')\n",
    "df_merged.head()"
   ]
  },
  {
   "cell_type": "code",
   "execution_count": 38,
   "id": "913acb07",
   "metadata": {
    "execution": {
     "iopub.execute_input": "2021-10-12T16:55:39.516003Z",
     "iopub.status.busy": "2021-10-12T16:55:39.509263Z",
     "iopub.status.idle": "2021-10-12T16:55:39.535548Z",
     "shell.execute_reply": "2021-10-12T16:55:39.535004Z",
     "shell.execute_reply.started": "2021-10-12T16:21:34.2983Z"
    },
    "papermill": {
     "duration": 0.072833,
     "end_time": "2021-10-12T16:55:39.535684",
     "exception": false,
     "start_time": "2021-10-12T16:55:39.462851",
     "status": "completed"
    },
    "tags": []
   },
   "outputs": [],
   "source": [
    "# Create the necessary dummy variables\n",
    "df_merged[['UK', 'US']] = pd.get_dummies(df_merged['country']).drop('CA', axis=1)"
   ]
  },
  {
   "cell_type": "code",
   "execution_count": 39,
   "id": "900afdb4",
   "metadata": {
    "execution": {
     "iopub.execute_input": "2021-10-12T16:55:39.628234Z",
     "iopub.status.busy": "2021-10-12T16:55:39.627586Z",
     "iopub.status.idle": "2021-10-12T16:55:39.640988Z",
     "shell.execute_reply": "2021-10-12T16:55:39.640358Z",
     "shell.execute_reply.started": "2021-10-12T16:21:34.330407Z"
    },
    "papermill": {
     "duration": 0.061962,
     "end_time": "2021-10-12T16:55:39.641123",
     "exception": false,
     "start_time": "2021-10-12T16:55:39.579161",
     "status": "completed"
    },
    "tags": []
   },
   "outputs": [
    {
     "data": {
      "text/html": [
       "<div>\n",
       "<style scoped>\n",
       "    .dataframe tbody tr th:only-of-type {\n",
       "        vertical-align: middle;\n",
       "    }\n",
       "\n",
       "    .dataframe tbody tr th {\n",
       "        vertical-align: top;\n",
       "    }\n",
       "\n",
       "    .dataframe thead th {\n",
       "        text-align: right;\n",
       "    }\n",
       "</style>\n",
       "<table border=\"1\" class=\"dataframe\">\n",
       "  <thead>\n",
       "    <tr style=\"text-align: right;\">\n",
       "      <th></th>\n",
       "      <th>user_id</th>\n",
       "      <th>timestamp</th>\n",
       "      <th>group</th>\n",
       "      <th>landing_page</th>\n",
       "      <th>converted</th>\n",
       "      <th>intercept</th>\n",
       "      <th>ab_page</th>\n",
       "      <th>country</th>\n",
       "      <th>UK</th>\n",
       "      <th>US</th>\n",
       "      <th>ab_UK</th>\n",
       "      <th>ab_US</th>\n",
       "    </tr>\n",
       "  </thead>\n",
       "  <tbody>\n",
       "    <tr>\n",
       "      <th>0</th>\n",
       "      <td>851104</td>\n",
       "      <td>2017-01-21 22:11:48.556739</td>\n",
       "      <td>control</td>\n",
       "      <td>old_page</td>\n",
       "      <td>0</td>\n",
       "      <td>1</td>\n",
       "      <td>0</td>\n",
       "      <td>US</td>\n",
       "      <td>0</td>\n",
       "      <td>1</td>\n",
       "      <td>0</td>\n",
       "      <td>0</td>\n",
       "    </tr>\n",
       "    <tr>\n",
       "      <th>1</th>\n",
       "      <td>804228</td>\n",
       "      <td>2017-01-12 08:01:45.159739</td>\n",
       "      <td>control</td>\n",
       "      <td>old_page</td>\n",
       "      <td>0</td>\n",
       "      <td>1</td>\n",
       "      <td>0</td>\n",
       "      <td>US</td>\n",
       "      <td>0</td>\n",
       "      <td>1</td>\n",
       "      <td>0</td>\n",
       "      <td>0</td>\n",
       "    </tr>\n",
       "    <tr>\n",
       "      <th>2</th>\n",
       "      <td>661590</td>\n",
       "      <td>2017-01-11 16:55:06.154213</td>\n",
       "      <td>treatment</td>\n",
       "      <td>new_page</td>\n",
       "      <td>0</td>\n",
       "      <td>1</td>\n",
       "      <td>1</td>\n",
       "      <td>US</td>\n",
       "      <td>0</td>\n",
       "      <td>1</td>\n",
       "      <td>0</td>\n",
       "      <td>1</td>\n",
       "    </tr>\n",
       "    <tr>\n",
       "      <th>3</th>\n",
       "      <td>853541</td>\n",
       "      <td>2017-01-08 18:28:03.143765</td>\n",
       "      <td>treatment</td>\n",
       "      <td>new_page</td>\n",
       "      <td>0</td>\n",
       "      <td>1</td>\n",
       "      <td>1</td>\n",
       "      <td>US</td>\n",
       "      <td>0</td>\n",
       "      <td>1</td>\n",
       "      <td>0</td>\n",
       "      <td>1</td>\n",
       "    </tr>\n",
       "    <tr>\n",
       "      <th>4</th>\n",
       "      <td>864975</td>\n",
       "      <td>2017-01-21 01:52:26.210827</td>\n",
       "      <td>control</td>\n",
       "      <td>old_page</td>\n",
       "      <td>1</td>\n",
       "      <td>1</td>\n",
       "      <td>0</td>\n",
       "      <td>US</td>\n",
       "      <td>0</td>\n",
       "      <td>1</td>\n",
       "      <td>0</td>\n",
       "      <td>0</td>\n",
       "    </tr>\n",
       "  </tbody>\n",
       "</table>\n",
       "</div>"
      ],
      "text/plain": [
       "   user_id                   timestamp      group landing_page  converted  \\\n",
       "0   851104  2017-01-21 22:11:48.556739    control     old_page          0   \n",
       "1   804228  2017-01-12 08:01:45.159739    control     old_page          0   \n",
       "2   661590  2017-01-11 16:55:06.154213  treatment     new_page          0   \n",
       "3   853541  2017-01-08 18:28:03.143765  treatment     new_page          0   \n",
       "4   864975  2017-01-21 01:52:26.210827    control     old_page          1   \n",
       "\n",
       "   intercept  ab_page country  UK  US  ab_UK  ab_US  \n",
       "0          1        0      US   0   1      0      0  \n",
       "1          1        0      US   0   1      0      0  \n",
       "2          1        1      US   0   1      0      1  \n",
       "3          1        1      US   0   1      0      1  \n",
       "4          1        0      US   0   1      0      0  "
      ]
     },
     "execution_count": 39,
     "metadata": {},
     "output_type": "execute_result"
    }
   ],
   "source": [
    "# Create new variables to check interaction between page and country\n",
    "df_merged['ab_UK'] = df_merged['ab_page'] * df_merged['UK']\n",
    "df_merged['ab_US'] = df_merged['ab_page'] * df_merged['US']\n",
    "df_merged.head()"
   ]
  },
  {
   "cell_type": "code",
   "execution_count": 40,
   "id": "886e1365",
   "metadata": {
    "execution": {
     "iopub.execute_input": "2021-10-12T16:55:39.729159Z",
     "iopub.status.busy": "2021-10-12T16:55:39.728545Z",
     "iopub.status.idle": "2021-10-12T16:55:42.495441Z",
     "shell.execute_reply": "2021-10-12T16:55:42.496387Z",
     "shell.execute_reply.started": "2021-10-12T16:21:34.351909Z"
    },
    "papermill": {
     "duration": 2.813505,
     "end_time": "2021-10-12T16:55:42.496655",
     "exception": false,
     "start_time": "2021-10-12T16:55:39.683150",
     "status": "completed"
    },
    "tags": []
   },
   "outputs": [
    {
     "name": "stdout",
     "output_type": "stream",
     "text": [
      "Optimization terminated successfully.\n",
      "         Current function value: 0.366109\n",
      "         Iterations 6\n"
     ]
    },
    {
     "data": {
      "text/html": [
       "<table class=\"simpletable\">\n",
       "<tr>\n",
       "        <td>Model:</td>              <td>Logit</td>      <td>Pseudo R-squared:</td>    <td>0.000</td>   \n",
       "</tr>\n",
       "<tr>\n",
       "  <td>Dependent Variable:</td>     <td>converted</td>          <td>AIC:</td>        <td>212782.6602</td>\n",
       "</tr>\n",
       "<tr>\n",
       "         <td>Date:</td>        <td>2021-10-12 16:55</td>       <td>BIC:</td>        <td>212846.1381</td>\n",
       "</tr>\n",
       "<tr>\n",
       "   <td>No. Observations:</td>       <td>290584</td>       <td>Log-Likelihood:</td>  <td>-1.0639e+05</td>\n",
       "</tr>\n",
       "<tr>\n",
       "       <td>Df Model:</td>              <td>5</td>            <td>LL-Null:</td>      <td>-1.0639e+05</td>\n",
       "</tr>\n",
       "<tr>\n",
       "     <td>Df Residuals:</td>         <td>290578</td>        <td>LLR p-value:</td>      <td>0.19199</td>  \n",
       "</tr>\n",
       "<tr>\n",
       "      <td>Converged:</td>           <td>1.0000</td>           <td>Scale:</td>         <td>1.0000</td>   \n",
       "</tr>\n",
       "<tr>\n",
       "    <td>No. Iterations:</td>        <td>6.0000</td>              <td></td>               <td></td>      \n",
       "</tr>\n",
       "</table>\n",
       "<table class=\"simpletable\">\n",
       "<tr>\n",
       "      <td></td>       <th>Coef.</th>  <th>Std.Err.</th>     <th>z</th>     <th>P>|z|</th> <th>[0.025</th>  <th>0.975]</th> \n",
       "</tr>\n",
       "<tr>\n",
       "  <th>intercept</th> <td>-2.0040</td>  <td>0.0364</td>  <td>-55.0077</td> <td>0.0000</td> <td>-2.0754</td> <td>-1.9326</td>\n",
       "</tr>\n",
       "<tr>\n",
       "  <th>ab_page</th>   <td>-0.0674</td>  <td>0.0520</td>   <td>-1.2967</td> <td>0.1947</td> <td>-0.1694</td> <td>0.0345</td> \n",
       "</tr>\n",
       "<tr>\n",
       "  <th>UK</th>        <td>0.0118</td>   <td>0.0398</td>   <td>0.2957</td>  <td>0.7674</td> <td>-0.0663</td> <td>0.0899</td> \n",
       "</tr>\n",
       "<tr>\n",
       "  <th>US</th>        <td>0.0175</td>   <td>0.0377</td>   <td>0.4652</td>  <td>0.6418</td> <td>-0.0563</td> <td>0.0914</td> \n",
       "</tr>\n",
       "<tr>\n",
       "  <th>ab_UK</th>     <td>0.0783</td>   <td>0.0568</td>   <td>1.3783</td>  <td>0.1681</td> <td>-0.0330</td> <td>0.1896</td> \n",
       "</tr>\n",
       "<tr>\n",
       "  <th>ab_US</th>     <td>0.0469</td>   <td>0.0538</td>   <td>0.8718</td>  <td>0.3833</td> <td>-0.0585</td> <td>0.1523</td> \n",
       "</tr>\n",
       "</table>"
      ],
      "text/plain": [
       "<class 'statsmodels.iolib.summary2.Summary'>\n",
       "\"\"\"\n",
       "                          Results: Logit\n",
       "==================================================================\n",
       "Model:              Logit            Pseudo R-squared: 0.000      \n",
       "Dependent Variable: converted        AIC:              212782.6602\n",
       "Date:               2021-10-12 16:55 BIC:              212846.1381\n",
       "No. Observations:   290584           Log-Likelihood:   -1.0639e+05\n",
       "Df Model:           5                LL-Null:          -1.0639e+05\n",
       "Df Residuals:       290578           LLR p-value:      0.19199    \n",
       "Converged:          1.0000           Scale:            1.0000     \n",
       "No. Iterations:     6.0000                                        \n",
       "-------------------------------------------------------------------\n",
       "               Coef.   Std.Err.     z      P>|z|    [0.025   0.975]\n",
       "-------------------------------------------------------------------\n",
       "intercept     -2.0040    0.0364  -55.0077  0.0000  -2.0754  -1.9326\n",
       "ab_page       -0.0674    0.0520   -1.2967  0.1947  -0.1694   0.0345\n",
       "UK             0.0118    0.0398    0.2957  0.7674  -0.0663   0.0899\n",
       "US             0.0175    0.0377    0.4652  0.6418  -0.0563   0.0914\n",
       "ab_UK          0.0783    0.0568    1.3783  0.1681  -0.0330   0.1896\n",
       "ab_US          0.0469    0.0538    0.8718  0.3833  -0.0585   0.1523\n",
       "==================================================================\n",
       "\n",
       "\"\"\""
      ]
     },
     "execution_count": 40,
     "metadata": {},
     "output_type": "execute_result"
    }
   ],
   "source": [
    "# Instantiate, fitting the model and summarizing the results\n",
    "log2 = sm.Logit(df_merged['converted'], df_merged[['intercept', 'ab_page','UK', 'US', 'ab_UK', 'ab_US']])\n",
    "result2 = log2.fit()\n",
    "result2.summary2()"
   ]
  },
  {
   "cell_type": "markdown",
   "id": "b3a81579",
   "metadata": {
    "papermill": {
     "duration": 0.04195,
     "end_time": "2021-10-12T16:55:42.602926",
     "exception": false,
     "start_time": "2021-10-12T16:55:42.560976",
     "status": "completed"
    },
    "tags": []
   },
   "source": [
    "<a id='finalConclusion'></a>\n",
    "# Final conclusions<br> \n",
    ">  **<center>The p-values are above the alpha value of 0.05, we reject the null hypothesis</center>**  \n",
    ">- Considering the facts stated from all the previous statistical tests we can denote the below:<br><br>\n",
    "    1. There is no apparent statistical difference in performance between old page and the new page in terms of conversions rate, even with taking the the location of the customer in consideration<br><br>\n",
    "    2. Deciding on whether to continue with the new page or the old one is not yet conclusive, if we look at the subject from a practical perspective will require including other features about the customers and the products, also cost is a huge contributor in the decision making process"
   ]
  },
  {
   "cell_type": "code",
   "execution_count": 41,
   "id": "35a1610a",
   "metadata": {
    "execution": {
     "iopub.execute_input": "2021-10-12T16:55:42.694027Z",
     "iopub.status.busy": "2021-10-12T16:55:42.693386Z",
     "iopub.status.idle": "2021-10-12T16:55:42.697016Z",
     "shell.execute_reply": "2021-10-12T16:55:42.696310Z",
     "shell.execute_reply.started": "2021-10-12T16:21:37.124291Z"
    },
    "papermill": {
     "duration": 0.051194,
     "end_time": "2021-10-12T16:55:42.697196",
     "exception": false,
     "start_time": "2021-10-12T16:55:42.646002",
     "status": "completed"
    },
    "tags": []
   },
   "outputs": [
    {
     "name": "stdout",
     "output_type": "stream",
     "text": [
      "Total running time is 01 minute, 37 seconds\n"
     ]
    }
   ],
   "source": [
    "finish = dt.datetime.now()\n",
    "duration =  finish - start\n",
    "print(f'Total running time is {str(duration)[2:4]} minute, {str(duration)[5:7]} seconds')"
   ]
  }
 ],
 "metadata": {
  "kernelspec": {
   "display_name": "Python 3",
   "language": "python",
   "name": "python3"
  },
  "language_info": {
   "codemirror_mode": {
    "name": "ipython",
    "version": 3
   },
   "file_extension": ".py",
   "mimetype": "text/x-python",
   "name": "python",
   "nbconvert_exporter": "python",
   "pygments_lexer": "ipython3",
   "version": "3.7.10"
  },
  "papermill": {
   "default_parameters": {},
   "duration": 105.683648,
   "end_time": "2021-10-12T16:55:43.451056",
   "environment_variables": {},
   "exception": null,
   "input_path": "__notebook__.ipynb",
   "output_path": "__notebook__.ipynb",
   "parameters": {},
   "start_time": "2021-10-12T16:53:57.767408",
   "version": "2.3.3"
  }
 },
 "nbformat": 4,
 "nbformat_minor": 5
}
